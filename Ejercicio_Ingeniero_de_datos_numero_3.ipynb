{
  "nbformat": 4,
  "nbformat_minor": 0,
  "metadata": {
    "colab": {
      "provenance": []
    },
    "kernelspec": {
      "name": "python3",
      "display_name": "Python 3"
    },
    "language_info": {
      "name": "python"
    }
  },
  "cells": [
    {
      "cell_type": "code",
      "source": [
        "from google.colab import drive \n",
        "drive.mount('/content/drive')"
      ],
      "metadata": {
        "id": "W4N_5EAughOE",
        "colab": {
          "base_uri": "https://localhost:8080/"
        },
        "outputId": "b638d699-a163-4e9d-af1f-8bbe9b59a23b"
      },
      "execution_count": null,
      "outputs": [
        {
          "output_type": "stream",
          "name": "stdout",
          "text": [
            "Drive already mounted at /content/drive; to attempt to forcibly remount, call drive.mount(\"/content/drive\", force_remount=True).\n"
          ]
        }
      ]
    },
    {
      "cell_type": "code",
      "source": [
        "%cd  /content/drive/MyDrive/Carpeta sin título "
      ],
      "metadata": {
        "colab": {
          "base_uri": "https://localhost:8080/"
        },
        "id": "oiD6Y10tiSsT",
        "outputId": "585f3bc2-c4c8-44b6-cbb6-0cfd56f3503b"
      },
      "execution_count": null,
      "outputs": [
        {
          "output_type": "stream",
          "name": "stdout",
          "text": [
            "/content/drive/MyDrive/Carpeta sin título\n"
          ]
        }
      ]
    },
    {
      "cell_type": "markdown",
      "source": [
        "Ejercicio Ingeniero de datos\n",
        "\n",
        "1. Estructura de datos\n",
        "\n",
        "Una de las funciones del rol es poder aportar con la estructura de los procesos a generar\n",
        "información dentro del equipo. Para esto, es necesaria la capacidad de usar herencias\n",
        "dentro de los procesos de Python, con tal de que se pueda apoyar con   esta información.\n",
        " En caso de tener la siguiente estructura"
      ],
      "metadata": {
        "id": "7Mxw4UlabG9y"
      }
    },
    {
      "cell_type": "code",
      "execution_count": 50,
      "metadata": {
        "id": "iuLdRKYJBRFG"
      },
      "outputs": [],
      "source": [
        "import pandas as pd\n",
        "import datetime as dt\n",
        "\n",
        "class Calendario ():\n",
        "    def __init__ (self, ruta1):\n",
        "        self.calendario=pd.read(ruta1)\n",
        "        self.fecha=datetime.dt.now()\n",
        "\n",
        "        self.periodo=(pd.to_datetime(self.fecha).dt.year*100)+(pd.to_datetime(self.fecha).dt.month)\n",
        "        self.primer_dia_habil=self.calendario[self.calendario['Periodo']==self.periodo&self.calendario['DIA_HABIL_MES']==1]\n",
        "\n",
        "    def nueva_fecha (self,fecha1):\n",
        "        self.fecha=fecha1\n",
        "\n",
        "        self.periodo=(pd.to_datetime(self.fecha).dt.year*100)+(pd.to_datetime(self.fecha).dt.month)\n",
        "        self.primer_dia_habil=self.calendario[self.calendario['Periodo']==self.periodo&self.calendario['DIA_HABIL_MES']==1]\n",
        "    def get_fecha():\n",
        "        return fecha\n",
        "\n",
        "class Reporte (Calendario):\n",
        "    def __init__ (self, ruta1,ruta_envio,ruta_log,nombre_reporte):\n",
        "        super().__init__(ruta1)\n",
        "        self.fecha_envio=pandas.read(ruta_envio)\n",
        "        self.si_fue_enviado=False\n",
        "        self.log=pandas.read(ruta_log)\n",
        "        self.nombre=nombre_reporte\n",
        "\n",
        "    def validacion (self):\n",
        "      # Para validar que el proceso fue enviado nos valemos del metodo validacion() que cambia el valor de la variable si_fue_enviado\n",
        "      # de False, a True.\n",
        "            self.si_fue_enviado=True\n",
        "            print(\"Envio validado\")\n",
        "    def  ejecutar_reporte(self):\n",
        "            # Ejecutar reporte genera una salida de los datos contenidos en los atributos de las sub-clases como en las superclases.\n",
        "            return \" Fecha: {}, Fecha_envio: {}, Log: {} , Nombre: {} \".format( super().get_fecha(),self.fecha_envio, self.log, self.nombre )\n",
        "\n",
        "\n"
      ]
    },
    {
      "cell_type": "code",
      "source": [
        "a=Reporte('Calendario.xlsx','Ruta 1','Ruta log','Reporte 1')\n",
        "a.si_fue_enviado=True"
      ],
      "metadata": {
        "id": "Ic3-ZuUpLQwW"
      },
      "execution_count": null,
      "outputs": []
    },
    {
      "cell_type": "code",
      "source": [
        "a.validacion()"
      ],
      "metadata": {
        "colab": {
          "base_uri": "https://localhost:8080/"
        },
        "id": "-XTiFRLaja8y",
        "outputId": "d1578a6a-f007-443e-811d-71e1a4ad1bcd"
      },
      "execution_count": 21,
      "outputs": [
        {
          "output_type": "stream",
          "name": "stdout",
          "text": [
            "Envio validado\n"
          ]
        }
      ]
    },
    {
      "cell_type": "code",
      "source": [
        "a.ejecutar_reporte()"
      ],
      "metadata": {
        "id": "bDjFgBHzK794"
      },
      "execution_count": null,
      "outputs": []
    },
    {
      "cell_type": "markdown",
      "source": [
        "¿Qué método se le podría incorporar a la clase de reporte para validar que el proceso fue\n",
        "enviado? Y adicionalmente ¿Como seria el método de **ejecutar el reporte **con tal de que en\n",
        "los códigos se pudieran ejecutar los reportes de la siguiente manera?\n",
        "\n",
        "a=reporte_venta_diarias() #este es un ejemplo de reporte que tendría su propia clase. \n",
        "\n",
        "Ver a.validacion()\n",
        "\n",
        "a.ejecutar_reporte"
      ],
      "metadata": {
        "id": "QpFjETk-bbcq"
      }
    }
  ]
}